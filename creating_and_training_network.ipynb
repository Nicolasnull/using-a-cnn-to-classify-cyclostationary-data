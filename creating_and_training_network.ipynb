{
 "cells": [
  {
   "cell_type": "markdown",
   "metadata": {},
   "source": [
    "# Creating and Training a CNN\n",
    "\n",
    "Authors: Matthew Gilley, John Morgan and Nicolas Null<br>\n",
    "Written in Fall 2021\n",
    "<hr>\n"
   ]
  },
  {
   "cell_type": "markdown",
   "metadata": {},
   "source": [
    "### Import Libraries"
   ]
  },
  {
   "cell_type": "code",
   "execution_count": 4,
   "metadata": {},
   "outputs": [],
   "source": [
    "import pickle\n",
    "import gzip\n",
    "import os\n",
    "import datetime as dt\n",
    "import torch\n",
    "import torch.nn as nn\n",
    "import torch.nn.functional as F\n",
    "import torch.optim as optim\n",
    "import sys\n",
    "import time\n",
    "from sklearn.metrics import accuracy_score\n",
    "from sklearn.metrics import confusion_matrix as cm\n",
    "from sklearn.metrics import f1_score\n",
    "import numpy as np\n",
    "from matplotlib import pyplot as plt\n",
    "import seaborn as sns"
   ]
  },
  {
   "cell_type": "markdown",
   "metadata": {},
   "source": [
    "### Load Dataloaders Into Notebook\n",
    "Dataloaders were created and separated in using the load_cropped_images notebook. To control the sizes of each dataset, you must run that notebook again."
   ]
  },
  {
   "cell_type": "code",
   "execution_count": 5,
   "metadata": {},
   "outputs": [],
   "source": [
    "here = os.getcwd()\n",
    "\n",
    "with gzip.open(os.path.join(here, 'test_cropped_dataloader.pkl')) as file:\n",
    "    test_dataloader = pickle.load(file)\n",
    "\n",
    "\n",
    "with gzip.open(os.path.join(here, 'validate_cropped_dataLoader.pkl')) as file:\n",
    "    validate_dataloader = pickle.load(file)\n",
    "    \n",
    "with gzip.open(os.path.join(here, 'train_cropped_dataloader.pkl')) as file:\n",
    "    train_dataloader = pickle.load(file)"
   ]
  },
  {
   "cell_type": "markdown",
   "metadata": {},
   "source": [
    "### Count the Number of Noise and RFI Instances in each Dataset\n",
    "This step is done so that the output files can include the exact number of RFI and Noise in each dataset. This may help in understanding the data when we review the output files created by testing. This is accomplished by iterating through each dataloader and counting the number of noise labels and the number of rfi labels."
   ]
  },
  {
   "cell_type": "code",
   "execution_count": 6,
   "metadata": {},
   "outputs": [
    {
     "name": "stdout",
     "output_type": "stream",
     "text": [
      "Test:\n",
      "noise: 113\n",
      "rfi: 117\n",
      "total 230\n",
      "\n",
      "Train: \n",
      "noise: 351\n",
      "rfi: 337\n",
      "total 688\n",
      "\n",
      "Validate: \n",
      "noise: 110\n",
      "rfi: 119\n",
      "total 229\n"
     ]
    }
   ],
   "source": [
    "# getting test dataset info\n",
    "test_noise = 0\n",
    "test_rfi = 0\n",
    "for (images, labels) in test_dataloader.dataset:\n",
    "    if labels == 0:\n",
    "        test_noise+=1\n",
    "    else:\n",
    "        test_rfi+=1\n",
    "\n",
    "print('Test:')\n",
    "print(f'noise: {test_noise}')\n",
    "print(f'rfi: {test_rfi}')\n",
    "print(f'total {len(test_dataloader.dataset)}')\n",
    "\n",
    "# getting train dataset info\n",
    "train_noise = 0\n",
    "train_rfi = 0\n",
    "for (images, labels) in train_dataloader.dataset:\n",
    "    if labels == 0:\n",
    "        train_noise+=1\n",
    "    else:\n",
    "        train_rfi+=1\n",
    "\n",
    "print('\\nTrain: ')\n",
    "print(f'noise: {train_noise}')\n",
    "print(f'rfi: {train_rfi}')\n",
    "print(f'total {len(train_dataloader.dataset)}')\n",
    "\n",
    "# getting validate dataset info\n",
    "validate_noise = 0\n",
    "validate_rfi = 0\n",
    "for (images, labels) in validate_dataloader.dataset:\n",
    "    if labels == 0:\n",
    "        validate_noise+=1\n",
    "    else:\n",
    "        validate_rfi+=1\n",
    "\n",
    "print('\\nValidate: ')\n",
    "print(f'noise: {validate_noise}')\n",
    "print(f'rfi: {validate_rfi}')\n",
    "print(f'total {len(validate_dataloader.dataset)}')"
   ]
  },
  {
   "cell_type": "markdown",
   "metadata": {},
   "source": [
    "### Creating a CNN\n",
    "\n",
    "#### Overview\n",
    "A Convolutional Neural Network (CNN) is a classifier that works with images. A CNN consists of multiple layers starting with the convolutional layers which identify high level features of the image and ending with a Deep Neural Network (DNN) which classify the image. A very insightful, interactive breakdown of the different components can be found <a href=\"https://poloclub.github.io/cnn-explainer/\">here.</a>\n",
    "\n",
    "<br>\n",
    "CNN Diagram<br>\n",
    "<a href=\"https://towardsdatascience.com/a-comprehensive-guide-to-convolutional-neural-networks-the-eli5-way-3bd2b1164a53\">Source</a>\n",
    "<br>\n",
    "<img src=\"notebook_images/CNN_diagram.png\" width=\"400px\">"
   ]
  },
  {
   "cell_type": "markdown",
   "metadata": {},
   "source": [
    "#### Convolutional Layers\n",
    "Each convolutional layer begins with convolution where a kernel is run over the input image. Kernels extract features from the images that will help differentiate between different types of images. These kernels are modified each epoch of the training to help extract more important features to the classification. Parameters of the kernels that can be modified during training include padding, kernel size, stride and weights (values inside of the kernel).\n",
    "<br><br>\n",
    "Animation showing kernal running over a 2-dimensional array<br>\n",
    "<a href=\"https://analyticsindiamag.com/convolutional-neural-network-image-classification-overview/\"> Source</a><br>\n",
    "<img src=\"notebook_images/conv_layer.gif\" width=\"300px\">"
   ]
  },
  {
   "cell_type": "markdown",
   "metadata": {},
   "source": [
    "The next step in each convolutional layer is the activation function. In our case we are using the ReLU function. The ReLU function is currently the modern standard for activation functions. Is is very computationally cheap and proven to be just as good as sigmoid and tanh functions. It also does not allow a negative output.\n",
    "\n",
    "<br>\n",
    "Screenshot of common activation functions<br>\n",
    "<a href=\"https://www.quora.com/What-is-ReLU-and-Softmax\">Source</a>\n",
    "<br>\n",
    "<img src=\"notebook_images/activation_functions.png\" width=\"300px\">\n"
   ]
  },
  {
   "cell_type": "markdown",
   "metadata": {},
   "source": [
    "The final step in the convolutional layer is the pooling function. The pooling function helps reduce the size of the activations and in turn the size of the overall network while still keeping the important values. The pooling layer is set up by the stride (the distance the kernel moves), the size of the kernel, and the type of pooling (typically either average or max). In the case of a 2x2 kernel with stride 2, 75% of the activation values are discarded. This helps reduce the complexity of the overall model as well as avoiding overfitting.\n",
    "\n",
    "<br>\n",
    "Example of a maxpool of size 2x2 and stride 2<br>\n",
    "<a href=\"https://www.geeksforgeeks.org/cnn-introduction-to-pooling-layer/\">Source</a>\n",
    "<br>\n",
    "<img src=\"notebook_images/pooling_function.png\" width=\"300px\">"
   ]
  },
  {
   "cell_type": "markdown",
   "metadata": {},
   "source": [
    "#### Deep Neural Network\n",
    "Here we use a neural net with 2 fully connected hidden layers. The input will the the results from the final convolutional layer. The outputs will be the classification of the image.\n",
    "\n",
    "<br>\n",
    "Diagram of a fully connected DNN<br>\n",
    "<a href=\"https://www.researchgate.net/figure/Example-of-fully-connected-neural-network_fig2_331525817\">Source</a><br>\n",
    "<img src=\"notebook_images/DNN_diagram.png\" width=\"300px\">"
   ]
  },
  {
   "cell_type": "markdown",
   "metadata": {},
   "source": [
    "### Our Model\n",
    "\n",
    "<img src=\"notebook_images/Conv_diagram.png\" alt=\"Our Model\"><br>**This figure is generated by adapting the code from <a href=\"https://github.com/gwding/draw_convnet\">https://github.com/gwding/draw_convnet<a><br><br>\n",
    "\n",
    "Our model is very heavily based off of a network created while taking <a href=\"https://www.udacity.com/course/deep-learning-pytorch--ud188\">this Udacity Course</a>. It contains 3 convolutional layers and a DNN with 2 fully connected hidden layers. Knowing that this structure was able to correctly classify different images in the CIFAR dataset made us believe it would work very well in our case of astronomical data screenshots. We first define all of the different layers that will be used in the __init__ method. Then in the forward function we lay out exactly how the image will progress through each of the layers we designed."
   ]
  },
  {
   "cell_type": "code",
   "execution_count": 7,
   "metadata": {},
   "outputs": [],
   "source": [
    "class CNN(nn.Module):\n",
    "    def __init__(self):\n",
    "        super(CNN, self).__init__() # crates all of the Layer types used in CNN \n",
    "\n",
    "        # convolutional layers\n",
    "        self.conv1 = nn.Conv2d(1,16,3,padding=1)\n",
    "        self.conv2 = nn.Conv2d(16,32,3,padding=1)\n",
    "        self.conv3 = nn.Conv2d(32,64,3,padding=1)\n",
    "\n",
    "        # Pooling Layer\n",
    "        self.pool = nn.MaxPool2d(2,2)\n",
    "        \n",
    "        # DNN layers\n",
    "        self.fc1 = nn.Linear(64*32*32, 512)\n",
    "        self.fc2 = nn.Linear(512,2)\n",
    "\n",
    "        # Dropout to avoid overfitting\n",
    "        self.dropout = nn.Dropout(0.25)\n",
    "\n",
    "        \n",
    "\n",
    "    def forward(self, x): # forward is the method called to run the image through the network\n",
    "        x = self.pool(F.relu(self.conv1(x))) # convolutional layer 1\n",
    "        x = self.pool(F.relu(self.conv2(x))) # convolutional layer 2\n",
    "        x = self.pool(F.relu(self.conv3(x))) # convolutional layer 3\n",
    "        x = x.view(-1, 64*32*32) # flatten results from 2d to 1d\n",
    "        x = self.dropout(x)\n",
    "        x = F.relu(self.fc1(x)) # DNN layer 1\n",
    "        x = self.dropout(x)\n",
    "        x = self.fc2(x) # DNN layer 2\n",
    "\n",
    "        return x\n"
   ]
  },
  {
   "cell_type": "markdown",
   "metadata": {},
   "source": [
    "### Create Model"
   ]
  },
  {
   "cell_type": "code",
   "execution_count": 8,
   "metadata": {},
   "outputs": [
    {
     "name": "stdout",
     "output_type": "stream",
     "text": [
      "CNN(\n",
      "  (conv1): Conv2d(1, 16, kernel_size=(3, 3), stride=(1, 1), padding=(1, 1))\n",
      "  (conv2): Conv2d(16, 32, kernel_size=(3, 3), stride=(1, 1), padding=(1, 1))\n",
      "  (conv3): Conv2d(32, 64, kernel_size=(3, 3), stride=(1, 1), padding=(1, 1))\n",
      "  (pool): MaxPool2d(kernel_size=2, stride=2, padding=0, dilation=1, ceil_mode=False)\n",
      "  (fc1): Linear(in_features=65536, out_features=512, bias=True)\n",
      "  (fc2): Linear(in_features=512, out_features=2, bias=True)\n",
      "  (dropout): Dropout(p=0.25, inplace=False)\n",
      ")\n"
     ]
    }
   ],
   "source": [
    "model = CNN()\n",
    "print(model)"
   ]
  },
  {
   "cell_type": "markdown",
   "metadata": {},
   "source": [
    "### Creating Criterion and Optimizer\n",
    "Criterion and optimizer are used to make the model better during training. The criterion uses cross entropy loss to calculate the errors in the model. The optimizer we chose to use was stochastic gradient descent. This uses loss calculated by the criterion to gradually minimize the errors in the model.\n",
    "\n",
    "<br>\n",
    "Gradient Descent Animation<br>\n",
    "<a href=\"https://blog.paperspace.com/intro-to-optimization-in-deep-learning-gradient-descent/\">Source</a><br>\n",
    "<img src=\"notebook_images/gradient_descent.gif\" width=\"400px\">"
   ]
  },
  {
   "cell_type": "code",
   "execution_count": 9,
   "metadata": {},
   "outputs": [],
   "source": [
    "criterion = nn.CrossEntropyLoss()\n",
    "optimizer = torch.optim.SGD(model.parameters(), lr=0.01)"
   ]
  },
  {
   "cell_type": "markdown",
   "metadata": {},
   "source": [
    "### CUDA Control\n",
    "This allows us to control whether or not we run the training on the GPU."
   ]
  },
  {
   "cell_type": "code",
   "execution_count": 10,
   "metadata": {},
   "outputs": [],
   "source": [
    "# SET THIS TO TRUE IF YOU WANT TO RUN IN CPU NO MATTER WHAT\n",
    "force_cpu = False\n",
    "\n",
    "use_cuda = False #don't touch this\n",
    "if torch.cuda.is_available() and not force_cpu:\n",
    "    use_cuda = True\n",
    "    \n",
    "device = torch.device(\"cuda:0\" if use_cuda else \"cpu\")"
   ]
  },
  {
   "cell_type": "markdown",
   "metadata": {},
   "source": [
    "### Output File Formatting\n",
    "In this block we name an output file based on the time and date that the following cell is run. We also record the name of the file, size of the datasets and corresponding distributions of the classes, the model architecture, and the device (either CUDA or CPU) that was used to run this model."
   ]
  },
  {
   "cell_type": "code",
   "execution_count": 11,
   "metadata": {},
   "outputs": [],
   "source": [
    "\n",
    "# get file name \n",
    "date_n_time = dt.datetime.now()\n",
    "time_stamp_created= date_n_time.strftime('%d%b%y-%H_%M_%S')\n",
    "file_name = 'output_files/'+ time_stamp_created + '-crop_test_results.txt'\n",
    "\n",
    "\n",
    "\n",
    "original_stdout = sys.stdout\n",
    "# This creates file and starts saving info to it\n",
    "with open(file_name, 'w') as file:\n",
    "    sys.stdout = file\n",
    "    print(file_name.replace('.txt', '')+':')\n",
    "    print(\"\\nSize of datasets:\")\n",
    "    print(f'Train Size: Total={len(train_dataloader.dataset)}  Noise={train_noise}  RFI={train_rfi}')\n",
    "    print(f'Test Size: Total={len(test_dataloader.dataset)}  Noise={test_noise}  RFI={test_rfi}')\n",
    "    print(f'Validate Size: Total={len(validate_dataloader.dataset)}  Noise={validate_noise}  RFI={validate_rfi}')\n",
    "    print('\\nMODEL:')\n",
    "    print(model)\n",
    "    print(f'\\nDevice Used: {device}')\n",
    "    sys.stdout = original_stdout"
   ]
  },
  {
   "cell_type": "markdown",
   "metadata": {},
   "source": [
    "### Training the Model\n",
    "We force all needed resources (the model and each image/label) to the device determined earlier. We then run through each epoch of training. Each image is run through the network forwards to calculate the loss using the criterion. Then, the model is modified using the optimizer. Each epoch's loss is calculated with the validation set so we can track the improvement of each epoch. The total training time and validation loss of each epoch are recorded into the output file."
   ]
  },
  {
   "cell_type": "code",
   "execution_count": 13,
   "metadata": {},
   "outputs": [
    {
     "name": "stdout",
     "output_type": "stream",
     "text": [
      "Epoch: 1 \tTraining Loss: 0.686645 \tValidation Loss: 0.682298\n",
      "Epoch: 2 \tTraining Loss: 0.678822 \tValidation Loss: 0.668599\n",
      "Epoch: 3 \tTraining Loss: 0.664582 \tValidation Loss: 0.657706\n",
      "Epoch: 4 \tTraining Loss: 0.639913 \tValidation Loss: 0.617296\n",
      "Epoch: 5 \tTraining Loss: 0.612176 \tValidation Loss: 0.568960\n",
      "Epoch: 6 \tTraining Loss: 0.535464 \tValidation Loss: 0.521981\n",
      "Epoch: 7 \tTraining Loss: 0.458803 \tValidation Loss: 0.362220\n",
      "Epoch: 8 \tTraining Loss: 0.346498 \tValidation Loss: 0.267156\n",
      "Epoch: 9 \tTraining Loss: 0.235337 \tValidation Loss: 0.208578\n",
      "Epoch: 10 \tTraining Loss: 0.177920 \tValidation Loss: 0.130007\n",
      "Epoch: 11 \tTraining Loss: 0.128551 \tValidation Loss: 0.088900\n",
      "Epoch: 12 \tTraining Loss: 0.113239 \tValidation Loss: 0.093529\n",
      "Epoch: 13 \tTraining Loss: 0.095199 \tValidation Loss: 0.073047\n",
      "Epoch: 14 \tTraining Loss: 0.086488 \tValidation Loss: 0.061253\n",
      "Epoch: 15 \tTraining Loss: 0.075933 \tValidation Loss: 0.056305\n",
      "Epoch: 16 \tTraining Loss: 0.080351 \tValidation Loss: 0.060196\n",
      "Epoch: 17 \tTraining Loss: 0.068621 \tValidation Loss: 0.053880\n",
      "Epoch: 18 \tTraining Loss: 0.069776 \tValidation Loss: 0.055078\n",
      "Epoch: 19 \tTraining Loss: 0.068058 \tValidation Loss: 0.125176\n",
      "Epoch: 20 \tTraining Loss: 0.069462 \tValidation Loss: 0.049545\n"
     ]
    }
   ],
   "source": [
    "# push needed info to cuda\n",
    "if use_cuda:\n",
    "    model.cuda()\n",
    "else:\n",
    "    model.cpu()\n",
    "criterion.cpu()\n",
    "num_epochs = 20\n",
    "\n",
    "validation_loss_min = -float('inf')\n",
    "\n",
    "# Start timer\n",
    "start_timer = time.perf_counter()\n",
    "\n",
    "for epoch in range(1, num_epochs+1):\n",
    "    train_loss = 0.0\n",
    "    validation_loss = 0.0\n",
    "    train = 1\n",
    "    num_train_batches = len(train_dataloader)\n",
    "    model.train()\n",
    "    for image, label in train_dataloader:\n",
    "        # Sends stuffs to cuda if available\n",
    "        image = image.to(device)\n",
    "        label = label.to(device)\n",
    "        #print(\"Training Batch:\", train, \"of\", num_train_batches)\n",
    "        train += 1\n",
    "        optimizer.zero_grad()\n",
    "        output = model(image)\n",
    "        loss = criterion(output, label)\n",
    "        loss.backward()\n",
    "        optimizer.step()\n",
    "        train_loss += loss.item()*image.size(0)\n",
    "\n",
    "    num_validate_batches = len(validate_dataloader)\n",
    "    validate = 1\n",
    "    model.eval()\n",
    "    for image, label in validate_dataloader:\n",
    "        # Sends stuffs to cuda if availible\n",
    "        image = image.to(device)\n",
    "        label = label.to(device)\n",
    "        #print(\"Validation Batch:\", validate, \"of\", num_validate_batches)\n",
    "        validate += 1\n",
    "        output = model(image)\n",
    "        loss = criterion(output, label)\n",
    "        validation_loss += loss.item()*image.size(0)\n",
    "\n",
    "    train_loss = train_loss/len(train_dataloader.dataset)\n",
    "    validation_loss = validation_loss/len(validate_dataloader.dataset)\n",
    "\n",
    "    # PRINT OUTPUTS TO FILE\n",
    "    original_stdout = sys.stdout\n",
    "    with open(file_name, 'a') as file:\n",
    "        sys.stdout = file\n",
    "        print('\\nRESULTS:')\n",
    "        print('Epoch: {} \\tTraining Loss: {:.6f} \\tValidation Loss: {:.6f}'.format(\n",
    "        epoch, train_loss, validation_loss))\n",
    "        print('\\n')\n",
    "        sys.stdout = original_stdout\n",
    "        \n",
    "    print('Epoch: {} \\tTraining Loss: {:.6f} \\tValidation Loss: {:.6f}'.format(\n",
    "        epoch, train_loss, validation_loss))\n",
    "\n",
    "stop_timer = time.perf_counter()\n",
    "original_stdout = sys.stdout\n",
    "with open(file_name, 'a') as file:\n",
    "    sys.stdout = file\n",
    "    print(f\"TIME TO TRAIN MODEL: {stop_timer-start_timer}\")\n",
    "    sys.stdout = original_stdout"
   ]
  },
  {
   "cell_type": "markdown",
   "metadata": {},
   "source": [
    "### Test Model With Unseen Data\n",
    "Now that the model is trained, we can measure the performance of the model using the test dataloader. Since we are not modifying the model, we run this set with no gradations. This way we only test the model, not modify. We also can calculate the confusion matrix, accuracy score and f1 score to better visualize the performance of this model. All of these statistics are saved to the output file."
   ]
  },
  {
   "cell_type": "code",
   "execution_count": 14,
   "metadata": {},
   "outputs": [
    {
     "name": "stdout",
     "output_type": "stream",
     "text": [
      "Confusion Matrix:\n",
      " [[110   3]\n",
      " [  4 113]]\n",
      "Accuracy Score: 0.9695652173913043\n",
      "f1 Score: 0.9695652173913043\n"
     ]
    },
    {
     "data": {
      "image/png": "[encoded data removed]",
      "text/plain": [
       "<Figure size 432x288 with 1 Axes>"
      ]
     },
     "metadata": {
      "needs_background": "light"
     },
     "output_type": "display_data"
    },
    {
     "name": "stdout",
     "output_type": "stream",
     "text": [
      "Test Loss: 0.1027317551167115\n"
     ]
    }
   ],
   "source": [
    "# force to CPU\n",
    "device = torch.device('cpu')\n",
    "model.cpu()\n",
    "\n",
    "num_test_batches = len(test_dataloader)\n",
    "test = 1\n",
    "test_loss = 0.0\n",
    "model.eval()\n",
    "predicted_classes = np.empty(0,dtype=\"uint8\")\n",
    "actual_classes = np.empty(0,dtype=\"uint8\")\n",
    "with torch.no_grad():\n",
    "    for image, label in test_dataloader:\n",
    "        image = image.to(device)\n",
    "        label = label.to(device)\n",
    "        #print(\"Test Batch:\", test, \"of\", num_test_batches)\n",
    "        test += 1\n",
    "        output = model(image)\n",
    "        loss = criterion(output, label)\n",
    "        test_loss += loss.item()*image.size(0)\n",
    "        \n",
    "        predicted_classes = np.append(predicted_classes, np.argmax(output, axis=1))\n",
    "        actual_classes = np.append(actual_classes, label)\n",
    "        \n",
    "accuracy = accuracy_score(actual_classes, predicted_classes)\n",
    "confusion_matrix = cm(actual_classes, predicted_classes)\n",
    "f1 = f1_score(actual_classes,predicted_classes, average='micro')\n",
    "print(f\"Confusion Matrix:\\n {confusion_matrix}\")\n",
    "print(f\"Accuracy Score: {accuracy}\")\n",
    "print(f'f1 Score: {f1}')\n",
    "\n",
    "## MAKES CONFUSION MATRIX GRAPHIC\n",
    "plt.title(\"Confusion Matrix\", fontsize=20)\n",
    "\n",
    "palette = sns.set_palette('pastel')\n",
    "\n",
    "sns.heatmap(cm(actual_classes, predicted_classes),cbar=False,annot=True, annot_kws={'size': 13}, fmt=\"d\", linewidth=.5, robust=True, xticklabels=['Noise','RFI'], yticklabels=['Noise', 'RFI'], cmap='Blues', vmax = 3225, vmin = 19)\n",
    "\n",
    "plt.xlabel('Predicted Class', fontsize=15)\n",
    "plt.ylabel('Actual Class', fontsize=15)\n",
    "plt.tight_layout()\n",
    "plt.savefig(file_name.replace('.txt', '.jpg'))\n",
    "plt.show()\n",
    "\n",
    "## END OF CONFUSION MATRIX GRAPHIC\n",
    "\n",
    "test_loss = test_loss/len(test_dataloader.dataset)\n",
    "print(\"Test Loss:\", test_loss)\n",
    "\n",
    "original_stdout = sys.stdout\n",
    "with open(file_name, 'a') as file:\n",
    "    sys.stdout = file\n",
    "    print()\n",
    "    print(\"RESULTS:\")\n",
    "    print(f\"Confusion Matrix:\\n {confusion_matrix}\")\n",
    "    print(f\"Accuracy Score: {accuracy}\")\n",
    "    print(f'f1 Score: {f1}')\n",
    "    print(\"Test Loss:\", test_loss)\n",
    "    sys.stdout = original_stdout\n"
   ]
  },
  {
   "cell_type": "markdown",
   "metadata": {},
   "source": [
    "### Save the Model"
   ]
  },
  {
   "cell_type": "code",
   "execution_count": null,
   "metadata": {},
   "outputs": [],
   "source": [
    "model_path = \"output_files/\" + time_stamp_created + \"-crop_model.pth\"\n",
    "\n",
    "torch.save(model.state_dict(), model_path)"
   ]
  }
 ],
 "metadata": {
  "interpreter": {
   "hash": "2c8ae7b7397383be484f509670a744b7a75aaa69a8c48f2fc2b876db86f77bea"
  },
  "kernelspec": {
   "display_name": "Python 3.8.8 64-bit",
   "name": "python3"
  },
  "language_info": {
   "codemirror_mode": {
    "name": "ipython",
    "version": 3
   },
   "file_extension": ".py",
   "mimetype": "text/x-python",
   "name": "python",
   "nbconvert_exporter": "python",
   "pygments_lexer": "ipython3",
   "version": "3.8.8"
  },
  "orig_nbformat": 4
 },
 "nbformat": 4,
 "nbformat_minor": 2
}
