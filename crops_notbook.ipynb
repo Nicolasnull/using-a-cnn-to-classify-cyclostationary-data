{
 "cells": [
  {
   "cell_type": "markdown",
   "metadata": {},
   "source": [
    "# Cropping Images\n",
    "Authors: Matthew Gilley, John Morgan, and Nicolas Null<br>\n",
    "Written in Fall 2021\n",
    "<hr>"
   ]
  },
  {
   "cell_type": "markdown",
   "metadata": {},
   "source": [
    "The goal of this notebook is to crop the original screenshots. The important data of the graphs is only located in a small portion of the screenshot. Cropping allows us to only feed the important part of the image to our model. This also will give our model less inputs which will make the model itself less complex and more accurate. The following are screenshots of the original screenshot and the resulting cropped image:<br>\n",
    "<br>\n",
    "Original Image:<br>\n",
    "<img src=\"notebook_images/original_screenshot.png\" alt=\"Original Screenshot\" height=\"200px\" /><br>\n",
    "<br>\n",
    "Cropped Image:<br>\n",
    "<img src=\"notebook_images/cropped_screenshot.png\" alt=\"Cropped Screenshot\" height=\"100px\" />"
   ]
  },
  {
   "cell_type": "markdown",
   "metadata": {},
   "source": [
    "### Import Libraries"
   ]
  },
  {
   "cell_type": "code",
   "execution_count": null,
   "metadata": {},
   "outputs": [],
   "source": [
    "import numpy as np\n",
    "from PIL import Image\n",
    "import glob"
   ]
  },
  {
   "cell_type": "markdown",
   "metadata": {},
   "source": [
    "### Crop Images\n",
    "\n",
    "Gets each .png file in the noise/rfi directory\n",
    "<ol>\n",
    "    <li>Load image as a numpy array</li>\n",
    "    <li>Slice the numpy array so you only see the important parts of the graph</li>\n",
    "    <li>Revert back to an Image and save cropped image into a new folder</li>\n",
    "</ol>"
   ]
  },
  {
   "cell_type": "code",
   "execution_count": null,
   "metadata": {},
   "outputs": [],
   "source": [
    "for filename in glob.glob('Screenshots/noise/*.png'): # get all files with .png extension\n",
    "    im=np.array(Image.open(filename)) # save image as a numpy array\n",
    "    im = im[554:1132, 33:1276, :] # slice numpy array with range of pixels needed for crop\n",
    "    img = Image.fromarray(im) # save sliced numpy array as an image object\n",
    "    img.save(f'Cropped_Screenshots/noise/cropped_{filename[18:]}') # save image\n",
    "\n",
    "    \n",
    "    \n",
    "for filename in glob.glob('Screenshots/rfi/*.png'): \n",
    "    im=np.array(Image.open(filename))\n",
    "    im = im[554:1132, 33:1276, :]\n",
    "    img = Image.fromarray(im)\n",
    "    img.save(f'Cropped_Screenshots/rfi/cropped_{filename[16:]}')"
   ]
  }
 ],
 "metadata": {
  "language_info": {
   "name": "python"
  },
  "orig_nbformat": 4
 },
 "nbformat": 4,
 "nbformat_minor": 2
}
